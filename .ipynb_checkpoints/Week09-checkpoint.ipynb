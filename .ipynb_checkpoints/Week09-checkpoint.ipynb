{
 "cells": [
  {
   "cell_type": "code",
   "execution_count": 10,
   "metadata": {},
   "outputs": [
    {
     "name": "stdout",
     "output_type": "stream",
     "text": [
      "y = 3x^2+5x+3 \n",
      "Enter x value : 2\n",
      "Value of y is :  25\n"
     ]
    }
   ],
   "source": [
    "print(\"y = 3x^2+5x+3 \")\n",
    "x = int(input(\"Enter x value : \"))\n",
    "y = 3*pow(x,2) + 5*x + 3\n",
    "print(\"Value of y is : \",result)"
   ]
  },
  {
   "cell_type": "code",
   "execution_count": 12,
   "metadata": {},
   "outputs": [
    {
     "name": "stdout",
     "output_type": "stream",
     "text": [
      "Enter radius : 3\n",
      "Circumference :  18.84\n",
      "Area :  28.26\n"
     ]
    }
   ],
   "source": [
    "pi = 3.14\n",
    "radius = int(input(\"Enter radius : \"))\n",
    "circ = 2 * pi * radius\n",
    "area = pi * pow(radius,2)\n",
    "print(\"Circumference : \",circ)\n",
    "print(\"Area : \",area)"
   ]
  }
 ],
 "metadata": {
  "kernelspec": {
   "display_name": "Python 3",
   "language": "python",
   "name": "python3"
  },
  "language_info": {
   "codemirror_mode": {
    "name": "ipython",
    "version": 3
   },
   "file_extension": ".py",
   "mimetype": "text/x-python",
   "name": "python",
   "nbconvert_exporter": "python",
   "pygments_lexer": "ipython3",
   "version": "3.8.5"
  }
 },
 "nbformat": 4,
 "nbformat_minor": 4
}
