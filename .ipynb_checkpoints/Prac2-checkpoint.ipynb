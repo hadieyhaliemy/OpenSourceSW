{
 "cells": [
  {
   "cell_type": "code",
   "execution_count": 8,
   "metadata": {},
   "outputs": [
    {
     "data": {
      "image/png": "[encoded data removed]",
      "text/plain": [
       "<Figure size 432x288 with 1 Axes>"
      ]
     },
     "metadata": {
      "needs_background": "light"
     },
     "output_type": "display_data"
    }
   ],
   "source": [
    "import csv\n",
    "import matplotlib.pyplot as plt\n",
    "\n",
    "f = open('seoul.csv')\n",
    "data = csv.reader(f)\n",
    "next(data)\n",
    "aug = []\n",
    "jan = []\n",
    "count = -1\n",
    "end = False\n",
    "\n",
    "for row in data :\n",
    "    count += 1\n",
    "    if count > 6 and end == False:\n",
    "        month = row[0].split('-')[1]\n",
    "        if row[-1] != '':\n",
    "            if month == '01':\n",
    "                jan.append(float(row[4]))\n",
    "            elif month == '08':\n",
    "                aug.append(float(row[4]))\n",
    "        if row[0] == '2020-12-31':\n",
    "            end = True\n",
    "            \n",
    "plt.title('Visualize Highest Temperature')\n",
    "##한국어 출력 못한다\n",
    "plt.hist(jan, bins = 100, color = 'b', label = 'Jan')\n",
    "plt.hist(aug, bins = 100, color = 'r', label = 'Aug')\n",
    "plt.legend()\n",
    "plt.show()"
   ]
  },
  {
   "cell_type": "code",
   "execution_count": null,
   "metadata": {},
   "outputs": [],
   "source": []
  },
  {
   "cell_type": "code",
   "execution_count": null,
   "metadata": {},
   "outputs": [],
   "source": []
  }
 ],
 "metadata": {
  "kernelspec": {
   "display_name": "Python 3",
   "language": "python",
   "name": "python3"
  },
  "language_info": {
   "codemirror_mode": {
    "name": "ipython",
    "version": 3
   },
   "file_extension": ".py",
   "mimetype": "text/x-python",
   "name": "python",
   "nbconvert_exporter": "python",
   "pygments_lexer": "ipython3",
   "version": "3.8.5"
  }
 },
 "nbformat": 4,
 "nbformat_minor": 4
}
