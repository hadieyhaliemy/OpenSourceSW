{
 "cells": [
  {
   "cell_type": "code",
   "execution_count": 7,
   "metadata": {},
   "outputs": [
    {
     "name": "stdout",
     "output_type": "stream",
     "text": [
      "계산식 입력: 1 + 2 - 3 * 4 - 5\n",
      "\n",
      "\n",
      "\n",
      "계산식 출역: 1+2-3*4-5=1\n"
     ]
    }
   ],
   "source": [
    "def calculate(inputs):\n",
    "    equation = inputs.split(\" \")\n",
    "    end = \"\"\n",
    "    for a in equation:\n",
    "        end +=a\n",
    "    end+=\"=\"\n",
    "\n",
    "    stack = []\n",
    "    stack_opend = []\n",
    "    for a in range(len(equation)):\n",
    "        if equation[a] in ('', '/','+','-'):\n",
    "            stack_opend.append(equation[a])\n",
    "            continue\n",
    "\n",
    "        stack.append(equation[a])\n",
    "\n",
    "        if not stack_opend:\n",
    "            print(\"\")\n",
    "        else:\n",
    "            op1=int(stack.pop())\n",
    "            op2=int(stack.pop())\n",
    "            opend = stack_opend.pop()\n",
    "            if opend == '+':\n",
    "                result = op1 + op2\n",
    "                stack.append(result)\n",
    "            elif opend == '-':\n",
    "                result = op1 - op2\n",
    "                stack.append(result)\n",
    "            elif opend == '/':\n",
    "                result = op1 / op2\n",
    "                stack.append(result)\n",
    "            elif opend == '':\n",
    "                result = op1 * op2\n",
    "                stack.append(result)\n",
    "\n",
    "    end +=str(stack.pop())\n",
    "    print(\"계산식 출역:\",end)\n",
    "if __name__ ==\"__main__\":\n",
    "    calculate(input(\"계산식 입력: \"))\n"
   ]
  },
  {
   "cell_type": "code",
   "execution_count": null,
   "metadata": {},
   "outputs": [],
   "source": []
  }
 ],
 "metadata": {
  "kernelspec": {
   "display_name": "Python 3",
   "language": "python",
   "name": "python3"
  },
  "language_info": {
   "codemirror_mode": {
    "name": "ipython",
    "version": 3
   },
   "file_extension": ".py",
   "mimetype": "text/x-python",
   "name": "python",
   "nbconvert_exporter": "python",
   "pygments_lexer": "ipython3",
   "version": "3.8.5"
  }
 },
 "nbformat": 4,
 "nbformat_minor": 4
}
