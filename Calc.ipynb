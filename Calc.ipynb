{
 "cells": [
  {
   "cell_type": "code",
   "execution_count": 7,
   "metadata": {},
   "outputs": [
    {
     "name": "stdout",
     "output_type": "stream",
     "text": [
      "1 + 2 = 3 입니다.\n",
      "5 - 1 = 4 입니다.\n",
      "2 * 3 = 6 입니다.\n",
      "6 / 2 = 3.0 입니다.\n"
     ]
    }
   ],
   "source": [
    "class Calc:\n",
    "    def sum(self,a,b):\n",
    "        result = a + b\n",
    "        print(\"%s + %s = %s 입니다.\" % (a,b,result))\n",
    "        \n",
    "    def sub(self,a,b):\n",
    "        result = a - b\n",
    "        print(\"%s - %s = %s 입니다.\" % (a,b,result))\n",
    "        \n",
    "    def multi(self,a,b):\n",
    "        result = a * b\n",
    "        print(\"%s * %s = %s 입니다.\" % (a,b,result))\n",
    "        \n",
    "    def divi(self,a,b):\n",
    "        result = a / b\n",
    "        print(\"%s / %s = %s 입니다.\" % (a,b,result))\n",
    "        \n",
    "\n"
   ]
  },
  {
   "cell_type": "code",
   "execution_count": null,
   "metadata": {},
   "outputs": [],
   "source": []
  }
 ],
 "metadata": {
  "kernelspec": {
   "display_name": "Python 3",
   "language": "python",
   "name": "python3"
  },
  "language_info": {
   "codemirror_mode": {
    "name": "ipython",
    "version": 3
   },
   "file_extension": ".py",
   "mimetype": "text/x-python",
   "name": "python",
   "nbconvert_exporter": "python",
   "pygments_lexer": "ipython3",
   "version": "3.8.5"
  }
 },
 "nbformat": 4,
 "nbformat_minor": 4
}
