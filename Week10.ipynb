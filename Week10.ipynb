{
 "cells": [
  {
   "cell_type": "code",
   "execution_count": 1,
   "metadata": {},
   "outputs": [
    {
     "name": "stdout",
     "output_type": "stream",
     "text": [
      "Numbers? 323 423 43\n",
      "Largest element is: 423\n"
     ]
    }
   ],
   "source": [
    "inp = input(\"Numbers? \")\n",
    "num = inp.split(\" \")\n",
    "for i in range(0, len(num)):\n",
    "    num[i] = int(num[i])\n",
    "print(\"Largest element is:\", max(num))"
   ]
  },
  {
   "cell_type": "code",
   "execution_count": null,
   "metadata": {},
   "outputs": [
    {
     "name": "stdout",
     "output_type": "stream",
     "text": [
      "If you want to encrypt press 1 to decryption press 2? 1\n",
      "Please Enter Your Word? abc def\n",
      "efg bcd\n",
      "If you want to encrypt press 1 to decryption press 2? 2\n",
      "Please Enter Your Word? efg bcd\n",
      "abc def\n"
     ]
    }
   ],
   "source": [
    "def split(word):\n",
    "    return [char for char in word]\n",
    "\n",
    "def decryption(a):\n",
    "    result = str(\"\")\n",
    "    a = a.split(\" \")\n",
    "    b = split(a[1])\n",
    "    c = split(a[0])\n",
    "    for i in range(0,len(b)):\n",
    "        c[i] = chr(ord(c[i]) - 1)\n",
    "    for i in range(0,len(b)):\n",
    "        b[i] = chr(ord(b[i]) - 1)\n",
    "    a[1] =\"\"\n",
    "    a[0] =\"\"\n",
    "    for i in range(0,len(b)):\n",
    "        a[1] +=b[i]\n",
    "        a[0] +=c[i]\n",
    "    result = a[1]+\" \"+a[0]\n",
    "    print(result)\n",
    "    main()\n",
    "\n",
    "def encryption(a):\n",
    "    result = str(\"\")\n",
    "    a = a.split(\" \")\n",
    "    b = split(a[1])\n",
    "    c = split(a[0])\n",
    "    for i in range(0,len(b)):\n",
    "        c[i] = chr(ord(c[i]) + 1)\n",
    "    for i in range(0,len(b)):\n",
    "        b[i] = chr(ord(b[i]) + 1)\n",
    "    a[1] =\"\"\n",
    "    a[0] =\"\"\n",
    "    for i in range(0,len(b)):\n",
    "        a[1] +=b[i]\n",
    "        a[0] +=c[i]\n",
    "    result = a[1]+\" \"+a[0]\n",
    "    print(result)\n",
    "    main()\n",
    "\n",
    "def main():\n",
    "    choice = ''\n",
    "    choice = input(\"To encrypt, press 1, to decrypt, press 2 \")\n",
    "    while choice != 0:\n",
    "        if choice == '1' :\n",
    "            str = input(\"Enter Code : \")\n",
    "            encryption(str)\n",
    "        elif choice == '2' :\n",
    "            str = input(\"Enter Code : \")\n",
    "            decryption(str) \n",
    "if __name__ == \"__main__\":\n",
    "    main()"
   ]
  },
  {
   "cell_type": "code",
   "execution_count": null,
   "metadata": {},
   "outputs": [],
   "source": []
  }
 ],
 "metadata": {
  "kernelspec": {
   "display_name": "Python 3",
   "language": "python",
   "name": "python3"
  },
  "language_info": {
   "codemirror_mode": {
    "name": "ipython",
    "version": 3
   },
   "file_extension": ".py",
   "mimetype": "text/x-python",
   "name": "python",
   "nbconvert_exporter": "python",
   "pygments_lexer": "ipython3",
   "version": "3.8.5"
  }
 },
 "nbformat": 4,
 "nbformat_minor": 4
}
