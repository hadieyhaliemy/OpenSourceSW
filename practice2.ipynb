{
 "cells": [
  {
   "cell_type": "code",
   "execution_count": 27,
   "metadata": {},
   "outputs": [
    {
     "name": "stdout",
     "output_type": "stream",
     "text": [
      "이용객이 가장 많은 역 순위\n",
      "1. 3167883 \n",
      "2. 2799927 \n",
      "3. 2598153\n",
      "이용객이 가장 적은 역 순위\n",
      "1. 2 \n",
      "2. 3 \n",
      "3. 9\n",
      "(csv 파일에 문제가 있어서 한글을 보여줄 수 없다.)\n"
     ]
    }
   ],
   "source": [
    "import csv\n",
    "f = open('subwayfee.csv')\n",
    "data = csv.reader(f)\n",
    "next(data)\n",
    "#csv 파일에 문제가 있어서 한글을 보여줄 수 없다. 그래서 이용객 수만 보여준다.\n",
    "top1 = -999\n",
    "top2 = -999\n",
    "top3 = -999\n",
    "bot1 = 999\n",
    "bot2 = 999\n",
    "bot3 = 999\n",
    "\n",
    "for row in data : \n",
    "    if row[-1] == '':\n",
    "        row[-1] = -999\n",
    "    row[4] = int(row[4].replace(',', ''))\n",
    "    row[5] = int(row[5].replace(',', ''))\n",
    "    num = row[4] + row[5]\n",
    "    if top1 < num:\n",
    "        top1 = num\n",
    "    elif top1 > num:\n",
    "        if top2 < num:\n",
    "            top2 = num\n",
    "        elif top2 > num:\n",
    "            if top3 < num:\n",
    "                top3 = num\n",
    "                \n",
    "    if bot1 > num:\n",
    "        bot1 = num\n",
    "    elif bot1 < num:\n",
    "        if bot2 > num:\n",
    "            bot2 = num\n",
    "        elif bot2 < num:\n",
    "            if bot3 > num:\n",
    "                bot3 = num\n",
    "                \n",
    "print('이용객이 가장 많은 역 순위\\n1.',top1,\"\\n2.\",top2,\"\\n3.\",top3)\n",
    "\n",
    "print('이용객이 가장 적은 역 순위\\n1.',bot1,\"\\n2.\",bot2,\"\\n3.\",bot3)\n",
    "print('(csv 파일에 문제가 있어서 한글을 보여줄 수 없다.)')\n"
   ]
  },
  {
   "cell_type": "code",
   "execution_count": null,
   "metadata": {},
   "outputs": [],
   "source": []
  },
  {
   "cell_type": "code",
   "execution_count": null,
   "metadata": {},
   "outputs": [],
   "source": []
  }
 ],
 "metadata": {
  "kernelspec": {
   "display_name": "Python 3",
   "language": "python",
   "name": "python3"
  },
  "language_info": {
   "codemirror_mode": {
    "name": "ipython",
    "version": 3
   },
   "file_extension": ".py",
   "mimetype": "text/x-python",
   "name": "python",
   "nbconvert_exporter": "python",
   "pygments_lexer": "ipython3",
   "version": "3.8.5"
  }
 },
 "nbformat": 4,
 "nbformat_minor": 4
}
