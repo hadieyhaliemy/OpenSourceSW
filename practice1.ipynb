{
 "cells": [
  {
   "cell_type": "code",
   "execution_count": 26,
   "metadata": {},
   "outputs": [
    {
     "name": "stdout",
     "output_type": "stream",
     "text": [
      "일교차가 가장 큰 날\n",
      "5/6/2020 \n",
      "최저기온이가장낮은날\n",
      "12/30/2020 \n",
      "최고기온이가장높은날\n",
      "6/22/2020\n"
     ]
    }
   ],
   "source": [
    "import csv\n",
    "f = open('seoul.csv')\n",
    "data = csv.reader(f)\n",
    "header = next(data)\n",
    "range = -999\n",
    "max_temp = -999\n",
    "min_temp = 999\n",
    "range_date = ''\n",
    "max_date = ''\n",
    "min_date = ''\n",
    "\n",
    "for row in data : \n",
    "    if row[-1] == '':\n",
    "        row[-1] = -999\n",
    "    row[-1] = float(row[-1])\n",
    "    rangetest = float(row[4]) - float(row[3])\n",
    "    if range < rangetest:\n",
    "        range_date = row[0]\n",
    "        range = rangetest\n",
    "        \n",
    "    \n",
    "    if max_temp < float(row[4]):\n",
    "        max_date = row[0]\n",
    "        max_temp = float(row[4])\n",
    "        \n",
    "    \n",
    "    if min_temp > float(row[3]):\n",
    "        min_date = row[0]\n",
    "        min_temp = float(row[3])\n",
    "f.close()\n",
    "print('일교차가 가장 큰 날\\n'+range_date,'\\n최저기온이가장낮은날\\n'+min_date,'\\n최고기온이가장높은날\\n'+max_date)"
   ]
  },
  {
   "cell_type": "code",
   "execution_count": null,
   "metadata": {},
   "outputs": [],
   "source": []
  }
 ],
 "metadata": {
  "kernelspec": {
   "display_name": "Python 3",
   "language": "python",
   "name": "python3"
  },
  "language_info": {
   "codemirror_mode": {
    "name": "ipython",
    "version": 3
   },
   "file_extension": ".py",
   "mimetype": "text/x-python",
   "name": "python",
   "nbconvert_exporter": "python",
   "pygments_lexer": "ipython3",
   "version": "3.8.5"
  }
 },
 "nbformat": 4,
 "nbformat_minor": 4
}
